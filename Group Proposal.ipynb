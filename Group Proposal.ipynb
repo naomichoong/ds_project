{
 "cells": [
  {
   "cell_type": "markdown",
   "id": "5b6b9fce-b949-4c69-bab9-b6ef97d27fa8",
   "metadata": {},
   "source": [
    "## \n",
    "## Group 6 Project Proposal"
   ]
  }
 ],
 "metadata": {
  "kernelspec": {
   "display_name": "R",
   "language": "R",
   "name": "ir"
  },
  "language_info": {
   "codemirror_mode": "r",
   "file_extension": ".r",
   "mimetype": "text/x-r-source",
   "name": "R",
   "pygments_lexer": "r",
   "version": "4.2.2"
  }
 },
 "nbformat": 4,
 "nbformat_minor": 5
}
