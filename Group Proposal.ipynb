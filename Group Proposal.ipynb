{
 "cells": [
  {
   "cell_type": "markdown",
   "id": "5b6b9fce-b949-4c69-bab9-b6ef97d27fa8",
   "metadata": {},
   "source": [
    "## Group 6 Project Proposal\n",
    "# Introduction: \n",
    "Parkinson’s Disease (PD) is a progressive neurodegenerative disorder that impairs motor abilities and is characterized by tremors, stiffness, slowed movements and postural instability. Many individuals with PD also experience voice and speech problems including abnormal voice quality, volume and pitch (Ma et al., 2020). Evidence has shown that vocal changes manifest during the prodromal phase of PD, prior to the onset of clinical symptoms and diagnosis (Harel et al., 2004). This suggests that vocal measurements may be a potential biomarker to detect early stages of PD. Early detection and treatment of PD can slow disease progression and may help mitigate symptoms. \n",
    "\n",
    "To investigate potential vocal biomarkers of PD, we aim to answer the following question: Can we use acoustic measurements of voice to predict whether a patient has Parkinson’s disease based on voice recordings?\n",
    "\n",
    "To answer this question, we will analyze a dataset of various acoustic measurements from the vocal recordings of 31 subjects. This data was collected by Little et al. (2009). An average of 6 recordings of sustained vowel phonations were taken for each subject.  Each row in the dataset corresponds to one voice recording from a subject.\n",
    "\n",
    "Source: https://www.kaggle.com/datasets/gargmanas/parkinsonsdataset"
   ]
  },
  {
   "cell_type": "markdown",
   "id": "5d77da05-625e-48d8-84e5-31e004fa2790",
   "metadata": {},
   "source": [
    "## Methods\n",
    "To examine whether acoustic measurements can be used to predict Parksinson’s disease, we will use the K-nearest neighbours classification algorithm. Variables were selected based on past literature, showing that patients with PD had higher jitter and shimmer, lower pitch variability, and a reduced harmonics to noise ratio compared to healthy subjects (Jiménez-Jiménez et al., 1997; Ma et al., 2020). To investigate the aim of our project, the dataset will first be split into a training and testing set. The optimal k value for our analysis will then be selected using a 5-fold cross validation on the training set. The k value with the highest accuracy estimate that does not decrease much when changing the k to a nearby value will be used. The final model will be built using the optimal k value and will be used to evaluate the accuracy of our classier on the test set. By computing and evaluating metrics for our classification model, we will be able to examine whether acoustic measures of voice can be used to accurately predict Parkinson’s disease. \n",
    "\n",
    "Variables we will use from the dataset:\n",
    "- `status` - health status of a subject; Parkinson’s = 1, healthy =0\n",
    "- `MDVP:Jitter(Abs)` - absolute jitter in microseconds (variation in frequency)\n",
    "- `Shimmer:DDA` - local shimmer in decibels (variation in amplitude)\n",
    "- `PPE` - pitch period entropy (variation in pitch)\n",
    "- `HNR` - harmonics-to-noise ratio (quantifies the amount of additive noise in voice)\n",
    "\n",
    "\n",
    "Bar charts will be plotted between each variable (type of acoustic measurement) and diagnosis of the patient to visualize the differences between the two groups (PD and healthy), helping to highlight any significant differences and providing a clear representation of our findings. "
   ]
  },
  {
   "cell_type": "markdown",
   "id": "7c23f35b-7f79-48fe-825f-8145cd75a9b5",
   "metadata": {},
   "source": [
    "## Expected Outcomes and Significance\n",
    "\n",
    "It is expected that the acoustic features mentioned above will demonstrate significant differences between individuals with PD and healthy patients, providing a basis for classification which can be used for early detection of PD to some extent.\n",
    "\n",
    "If our study confirms a correlation between acoustic measurements and PD, voice analysis could become a good screening tool for early diagnosis, a tool for monitoring the progression of PD, and help evaluate the effectiveness of treatment. This facilitates telemedicine and home-based monitoring, making healthcare more accessible. In the larger scope of medicine, the study’s findings can generate more awareness regarding the utility of acoustic measurements for various neurological and neurodegenerative disorders.\n",
    "\n",
    "Further research could be conducted that focuses on larger and more diverse patient populations. The study also raises interest for other diagnostic tools and biomarkers to be included to create more accurate and comprehensive diagnostic models. "
   ]
  },
  {
   "cell_type": "code",
   "execution_count": 33,
   "id": "9d2f129e-577c-49ce-9b7c-7efbcd9f7d68",
   "metadata": {
    "tags": []
   },
   "outputs": [],
   "source": [
    "library(tidyverse)\n",
    "library(repr)\n",
    "library(tidymodels)\n",
    "options(repr.matrix.max.rows = 6)"
   ]
  },
  {
   "cell_type": "code",
   "execution_count": 37,
   "id": "84bd499e-34df-4c74-b2dc-2586a8144c0d",
   "metadata": {
    "tags": []
   },
   "outputs": [
    {
     "name": "stderr",
     "output_type": "stream",
     "text": [
      "\u001b[1mRows: \u001b[22m\u001b[34m195\u001b[39m \u001b[1mColumns: \u001b[22m\u001b[34m24\u001b[39m\n",
      "\u001b[36m──\u001b[39m \u001b[1mColumn specification\u001b[22m \u001b[36m────────────────────────────────────────────────────────\u001b[39m\n",
      "\u001b[1mDelimiter:\u001b[22m \",\"\n",
      "\u001b[31mchr\u001b[39m  (1): name\n",
      "\u001b[32mdbl\u001b[39m (23): MDVP:Fo(Hz), MDVP:Fhi(Hz), MDVP:Flo(Hz), MDVP:Jitter(%), MDVP:Jitt...\n",
      "\n",
      "\u001b[36mℹ\u001b[39m Use `spec()` to retrieve the full column specification for this data.\n",
      "\u001b[36mℹ\u001b[39m Specify the column types or set `show_col_types = FALSE` to quiet this message.\n"
     ]
    },
    {
     "data": {
      "text/html": [
       "<table class=\"dataframe\">\n",
       "<caption>A spec_tbl_df: 195 × 24</caption>\n",
       "<thead>\n",
       "\t<tr><th scope=col>name</th><th scope=col>MDVP:Fo(Hz)</th><th scope=col>MDVP:Fhi(Hz)</th><th scope=col>MDVP:Flo(Hz)</th><th scope=col>MDVP:Jitter(%)</th><th scope=col>MDVP:Jitter(Abs)</th><th scope=col>MDVP:RAP</th><th scope=col>MDVP:PPQ</th><th scope=col>Jitter:DDP</th><th scope=col>MDVP:Shimmer</th><th scope=col>⋯</th><th scope=col>Shimmer:DDA</th><th scope=col>NHR</th><th scope=col>HNR</th><th scope=col>status</th><th scope=col>RPDE</th><th scope=col>DFA</th><th scope=col>spread1</th><th scope=col>spread2</th><th scope=col>D2</th><th scope=col>PPE</th></tr>\n",
       "\t<tr><th scope=col>&lt;chr&gt;</th><th scope=col>&lt;dbl&gt;</th><th scope=col>&lt;dbl&gt;</th><th scope=col>&lt;dbl&gt;</th><th scope=col>&lt;dbl&gt;</th><th scope=col>&lt;dbl&gt;</th><th scope=col>&lt;dbl&gt;</th><th scope=col>&lt;dbl&gt;</th><th scope=col>&lt;dbl&gt;</th><th scope=col>&lt;dbl&gt;</th><th scope=col>⋯</th><th scope=col>&lt;dbl&gt;</th><th scope=col>&lt;dbl&gt;</th><th scope=col>&lt;dbl&gt;</th><th scope=col>&lt;dbl&gt;</th><th scope=col>&lt;dbl&gt;</th><th scope=col>&lt;dbl&gt;</th><th scope=col>&lt;dbl&gt;</th><th scope=col>&lt;dbl&gt;</th><th scope=col>&lt;dbl&gt;</th><th scope=col>&lt;dbl&gt;</th></tr>\n",
       "</thead>\n",
       "<tbody>\n",
       "\t<tr><td>phon_R01_S01_1</td><td>119.992</td><td>157.302</td><td> 74.997</td><td>0.00784</td><td>7e-05</td><td>0.00370</td><td>0.00554</td><td>0.01109</td><td>0.04374</td><td>⋯</td><td>0.06545</td><td>0.02211</td><td>21.033</td><td>1</td><td>0.414783</td><td>0.815285</td><td>-4.813031</td><td>0.266482</td><td>2.301442</td><td>0.284654</td></tr>\n",
       "\t<tr><td>phon_R01_S01_2</td><td>122.400</td><td>148.650</td><td>113.819</td><td>0.00968</td><td>8e-05</td><td>0.00465</td><td>0.00696</td><td>0.01394</td><td>0.06134</td><td>⋯</td><td>0.09403</td><td>0.01929</td><td>19.085</td><td>1</td><td>0.458359</td><td>0.819521</td><td>-4.075192</td><td>0.335590</td><td>2.486855</td><td>0.368674</td></tr>\n",
       "\t<tr><td>phon_R01_S01_3</td><td>116.682</td><td>131.111</td><td>111.555</td><td>0.01050</td><td>9e-05</td><td>0.00544</td><td>0.00781</td><td>0.01633</td><td>0.05233</td><td>⋯</td><td>0.08270</td><td>0.01309</td><td>20.651</td><td>1</td><td>0.429895</td><td>0.825288</td><td>-4.443179</td><td>0.311173</td><td>2.342259</td><td>0.332634</td></tr>\n",
       "\t<tr><td>⋮</td><td>⋮</td><td>⋮</td><td>⋮</td><td>⋮</td><td>⋮</td><td>⋮</td><td>⋮</td><td>⋮</td><td>⋮</td><td>⋱</td><td>⋮</td><td>⋮</td><td>⋮</td><td>⋮</td><td>⋮</td><td>⋮</td><td>⋮</td><td>⋮</td><td>⋮</td><td>⋮</td></tr>\n",
       "\t<tr><td>phon_R01_S50_4</td><td>174.688</td><td>240.005</td><td>74.287</td><td>0.01360</td><td>8e-05</td><td>0.00624</td><td>0.00564</td><td>0.01873</td><td>0.02308</td><td>⋯</td><td>0.03804</td><td>0.10715</td><td>17.883</td><td>0</td><td>0.407567</td><td>0.655683</td><td>-6.787197</td><td>0.158453</td><td>2.679772</td><td>0.131728</td></tr>\n",
       "\t<tr><td>phon_R01_S50_5</td><td>198.764</td><td>396.961</td><td>74.904</td><td>0.00740</td><td>4e-05</td><td>0.00370</td><td>0.00390</td><td>0.01109</td><td>0.02296</td><td>⋯</td><td>0.03794</td><td>0.07223</td><td>19.020</td><td>0</td><td>0.451221</td><td>0.643956</td><td>-6.744577</td><td>0.207454</td><td>2.138608</td><td>0.123306</td></tr>\n",
       "\t<tr><td>phon_R01_S50_6</td><td>214.289</td><td>260.277</td><td>77.973</td><td>0.00567</td><td>3e-05</td><td>0.00295</td><td>0.00317</td><td>0.00885</td><td>0.01884</td><td>⋯</td><td>0.03078</td><td>0.04398</td><td>21.209</td><td>0</td><td>0.462803</td><td>0.664357</td><td>-5.724056</td><td>0.190667</td><td>2.555477</td><td>0.148569</td></tr>\n",
       "</tbody>\n",
       "</table>\n"
      ],
      "text/latex": [
       "A spec\\_tbl\\_df: 195 × 24\n",
       "\\begin{tabular}{lllllllllllllllllllll}\n",
       " name & MDVP:Fo(Hz) & MDVP:Fhi(Hz) & MDVP:Flo(Hz) & MDVP:Jitter(\\%) & MDVP:Jitter(Abs) & MDVP:RAP & MDVP:PPQ & Jitter:DDP & MDVP:Shimmer & ⋯ & Shimmer:DDA & NHR & HNR & status & RPDE & DFA & spread1 & spread2 & D2 & PPE\\\\\n",
       " <chr> & <dbl> & <dbl> & <dbl> & <dbl> & <dbl> & <dbl> & <dbl> & <dbl> & <dbl> & ⋯ & <dbl> & <dbl> & <dbl> & <dbl> & <dbl> & <dbl> & <dbl> & <dbl> & <dbl> & <dbl>\\\\\n",
       "\\hline\n",
       "\t phon\\_R01\\_S01\\_1 & 119.992 & 157.302 &  74.997 & 0.00784 & 7e-05 & 0.00370 & 0.00554 & 0.01109 & 0.04374 & ⋯ & 0.06545 & 0.02211 & 21.033 & 1 & 0.414783 & 0.815285 & -4.813031 & 0.266482 & 2.301442 & 0.284654\\\\\n",
       "\t phon\\_R01\\_S01\\_2 & 122.400 & 148.650 & 113.819 & 0.00968 & 8e-05 & 0.00465 & 0.00696 & 0.01394 & 0.06134 & ⋯ & 0.09403 & 0.01929 & 19.085 & 1 & 0.458359 & 0.819521 & -4.075192 & 0.335590 & 2.486855 & 0.368674\\\\\n",
       "\t phon\\_R01\\_S01\\_3 & 116.682 & 131.111 & 111.555 & 0.01050 & 9e-05 & 0.00544 & 0.00781 & 0.01633 & 0.05233 & ⋯ & 0.08270 & 0.01309 & 20.651 & 1 & 0.429895 & 0.825288 & -4.443179 & 0.311173 & 2.342259 & 0.332634\\\\\n",
       "\t ⋮ & ⋮ & ⋮ & ⋮ & ⋮ & ⋮ & ⋮ & ⋮ & ⋮ & ⋮ & ⋱ & ⋮ & ⋮ & ⋮ & ⋮ & ⋮ & ⋮ & ⋮ & ⋮ & ⋮ & ⋮\\\\\n",
       "\t phon\\_R01\\_S50\\_4 & 174.688 & 240.005 & 74.287 & 0.01360 & 8e-05 & 0.00624 & 0.00564 & 0.01873 & 0.02308 & ⋯ & 0.03804 & 0.10715 & 17.883 & 0 & 0.407567 & 0.655683 & -6.787197 & 0.158453 & 2.679772 & 0.131728\\\\\n",
       "\t phon\\_R01\\_S50\\_5 & 198.764 & 396.961 & 74.904 & 0.00740 & 4e-05 & 0.00370 & 0.00390 & 0.01109 & 0.02296 & ⋯ & 0.03794 & 0.07223 & 19.020 & 0 & 0.451221 & 0.643956 & -6.744577 & 0.207454 & 2.138608 & 0.123306\\\\\n",
       "\t phon\\_R01\\_S50\\_6 & 214.289 & 260.277 & 77.973 & 0.00567 & 3e-05 & 0.00295 & 0.00317 & 0.00885 & 0.01884 & ⋯ & 0.03078 & 0.04398 & 21.209 & 0 & 0.462803 & 0.664357 & -5.724056 & 0.190667 & 2.555477 & 0.148569\\\\\n",
       "\\end{tabular}\n"
      ],
      "text/markdown": [
       "\n",
       "A spec_tbl_df: 195 × 24\n",
       "\n",
       "| name &lt;chr&gt; | MDVP:Fo(Hz) &lt;dbl&gt; | MDVP:Fhi(Hz) &lt;dbl&gt; | MDVP:Flo(Hz) &lt;dbl&gt; | MDVP:Jitter(%) &lt;dbl&gt; | MDVP:Jitter(Abs) &lt;dbl&gt; | MDVP:RAP &lt;dbl&gt; | MDVP:PPQ &lt;dbl&gt; | Jitter:DDP &lt;dbl&gt; | MDVP:Shimmer &lt;dbl&gt; | ⋯ ⋯ | Shimmer:DDA &lt;dbl&gt; | NHR &lt;dbl&gt; | HNR &lt;dbl&gt; | status &lt;dbl&gt; | RPDE &lt;dbl&gt; | DFA &lt;dbl&gt; | spread1 &lt;dbl&gt; | spread2 &lt;dbl&gt; | D2 &lt;dbl&gt; | PPE &lt;dbl&gt; |\n",
       "|---|---|---|---|---|---|---|---|---|---|---|---|---|---|---|---|---|---|---|---|---|\n",
       "| phon_R01_S01_1 | 119.992 | 157.302 |  74.997 | 0.00784 | 7e-05 | 0.00370 | 0.00554 | 0.01109 | 0.04374 | ⋯ | 0.06545 | 0.02211 | 21.033 | 1 | 0.414783 | 0.815285 | -4.813031 | 0.266482 | 2.301442 | 0.284654 |\n",
       "| phon_R01_S01_2 | 122.400 | 148.650 | 113.819 | 0.00968 | 8e-05 | 0.00465 | 0.00696 | 0.01394 | 0.06134 | ⋯ | 0.09403 | 0.01929 | 19.085 | 1 | 0.458359 | 0.819521 | -4.075192 | 0.335590 | 2.486855 | 0.368674 |\n",
       "| phon_R01_S01_3 | 116.682 | 131.111 | 111.555 | 0.01050 | 9e-05 | 0.00544 | 0.00781 | 0.01633 | 0.05233 | ⋯ | 0.08270 | 0.01309 | 20.651 | 1 | 0.429895 | 0.825288 | -4.443179 | 0.311173 | 2.342259 | 0.332634 |\n",
       "| ⋮ | ⋮ | ⋮ | ⋮ | ⋮ | ⋮ | ⋮ | ⋮ | ⋮ | ⋮ | ⋱ | ⋮ | ⋮ | ⋮ | ⋮ | ⋮ | ⋮ | ⋮ | ⋮ | ⋮ | ⋮ |\n",
       "| phon_R01_S50_4 | 174.688 | 240.005 | 74.287 | 0.01360 | 8e-05 | 0.00624 | 0.00564 | 0.01873 | 0.02308 | ⋯ | 0.03804 | 0.10715 | 17.883 | 0 | 0.407567 | 0.655683 | -6.787197 | 0.158453 | 2.679772 | 0.131728 |\n",
       "| phon_R01_S50_5 | 198.764 | 396.961 | 74.904 | 0.00740 | 4e-05 | 0.00370 | 0.00390 | 0.01109 | 0.02296 | ⋯ | 0.03794 | 0.07223 | 19.020 | 0 | 0.451221 | 0.643956 | -6.744577 | 0.207454 | 2.138608 | 0.123306 |\n",
       "| phon_R01_S50_6 | 214.289 | 260.277 | 77.973 | 0.00567 | 3e-05 | 0.00295 | 0.00317 | 0.00885 | 0.01884 | ⋯ | 0.03078 | 0.04398 | 21.209 | 0 | 0.462803 | 0.664357 | -5.724056 | 0.190667 | 2.555477 | 0.148569 |\n",
       "\n"
      ],
      "text/plain": [
       "    name           MDVP:Fo(Hz) MDVP:Fhi(Hz) MDVP:Flo(Hz) MDVP:Jitter(%)\n",
       "1   phon_R01_S01_1 119.992     157.302       74.997      0.00784       \n",
       "2   phon_R01_S01_2 122.400     148.650      113.819      0.00968       \n",
       "3   phon_R01_S01_3 116.682     131.111      111.555      0.01050       \n",
       "⋮   ⋮              ⋮           ⋮            ⋮            ⋮             \n",
       "193 phon_R01_S50_4 174.688     240.005      74.287       0.01360       \n",
       "194 phon_R01_S50_5 198.764     396.961      74.904       0.00740       \n",
       "195 phon_R01_S50_6 214.289     260.277      77.973       0.00567       \n",
       "    MDVP:Jitter(Abs) MDVP:RAP MDVP:PPQ Jitter:DDP MDVP:Shimmer ⋯ Shimmer:DDA\n",
       "1   7e-05            0.00370  0.00554  0.01109    0.04374      ⋯ 0.06545    \n",
       "2   8e-05            0.00465  0.00696  0.01394    0.06134      ⋯ 0.09403    \n",
       "3   9e-05            0.00544  0.00781  0.01633    0.05233      ⋯ 0.08270    \n",
       "⋮   ⋮                ⋮        ⋮        ⋮          ⋮            ⋱ ⋮          \n",
       "193 8e-05            0.00624  0.00564  0.01873    0.02308      ⋯ 0.03804    \n",
       "194 4e-05            0.00370  0.00390  0.01109    0.02296      ⋯ 0.03794    \n",
       "195 3e-05            0.00295  0.00317  0.00885    0.01884      ⋯ 0.03078    \n",
       "    NHR     HNR    status RPDE     DFA      spread1   spread2  D2      \n",
       "1   0.02211 21.033 1      0.414783 0.815285 -4.813031 0.266482 2.301442\n",
       "2   0.01929 19.085 1      0.458359 0.819521 -4.075192 0.335590 2.486855\n",
       "3   0.01309 20.651 1      0.429895 0.825288 -4.443179 0.311173 2.342259\n",
       "⋮   ⋮       ⋮      ⋮      ⋮        ⋮        ⋮         ⋮        ⋮       \n",
       "193 0.10715 17.883 0      0.407567 0.655683 -6.787197 0.158453 2.679772\n",
       "194 0.07223 19.020 0      0.451221 0.643956 -6.744577 0.207454 2.138608\n",
       "195 0.04398 21.209 0      0.462803 0.664357 -5.724056 0.190667 2.555477\n",
       "    PPE     \n",
       "1   0.284654\n",
       "2   0.368674\n",
       "3   0.332634\n",
       "⋮   ⋮       \n",
       "193 0.131728\n",
       "194 0.123306\n",
       "195 0.148569"
      ]
     },
     "metadata": {},
     "output_type": "display_data"
    }
   ],
   "source": [
    "url <- \"https://raw.githubusercontent.com/naomichoong/ds_project/main/parkinsons.csv\"\n",
    "parkinsons_data <- read_csv(url)\n",
    "parkinsons_data"
   ]
  },
  {
   "cell_type": "code",
   "execution_count": 38,
   "id": "32541bcf-a98f-4d49-a62d-08648ce082c7",
   "metadata": {
    "tags": []
   },
   "outputs": [
    {
     "data": {
      "text/html": [
       "<table class=\"dataframe\">\n",
       "<caption>A tibble: 195 × 5</caption>\n",
       "<thead>\n",
       "\t<tr><th scope=col>status</th><th scope=col>jitter</th><th scope=col>shimmer</th><th scope=col>ppe</th><th scope=col>hnr</th></tr>\n",
       "\t<tr><th scope=col>&lt;fct&gt;</th><th scope=col>&lt;dbl&gt;</th><th scope=col>&lt;dbl&gt;</th><th scope=col>&lt;dbl&gt;</th><th scope=col>&lt;dbl&gt;</th></tr>\n",
       "</thead>\n",
       "<tbody>\n",
       "\t<tr><td>1</td><td>7e-05</td><td>0.06545</td><td>0.284654</td><td>21.033</td></tr>\n",
       "\t<tr><td>1</td><td>8e-05</td><td>0.09403</td><td>0.368674</td><td>19.085</td></tr>\n",
       "\t<tr><td>1</td><td>9e-05</td><td>0.08270</td><td>0.332634</td><td>20.651</td></tr>\n",
       "\t<tr><td>⋮</td><td>⋮</td><td>⋮</td><td>⋮</td><td>⋮</td></tr>\n",
       "\t<tr><td>0</td><td>8e-05</td><td>0.03804</td><td>0.131728</td><td>17.883</td></tr>\n",
       "\t<tr><td>0</td><td>4e-05</td><td>0.03794</td><td>0.123306</td><td>19.020</td></tr>\n",
       "\t<tr><td>0</td><td>3e-05</td><td>0.03078</td><td>0.148569</td><td>21.209</td></tr>\n",
       "</tbody>\n",
       "</table>\n"
      ],
      "text/latex": [
       "A tibble: 195 × 5\n",
       "\\begin{tabular}{lllll}\n",
       " status & jitter & shimmer & ppe & hnr\\\\\n",
       " <fct> & <dbl> & <dbl> & <dbl> & <dbl>\\\\\n",
       "\\hline\n",
       "\t 1 & 7e-05 & 0.06545 & 0.284654 & 21.033\\\\\n",
       "\t 1 & 8e-05 & 0.09403 & 0.368674 & 19.085\\\\\n",
       "\t 1 & 9e-05 & 0.08270 & 0.332634 & 20.651\\\\\n",
       "\t ⋮ & ⋮ & ⋮ & ⋮ & ⋮\\\\\n",
       "\t 0 & 8e-05 & 0.03804 & 0.131728 & 17.883\\\\\n",
       "\t 0 & 4e-05 & 0.03794 & 0.123306 & 19.020\\\\\n",
       "\t 0 & 3e-05 & 0.03078 & 0.148569 & 21.209\\\\\n",
       "\\end{tabular}\n"
      ],
      "text/markdown": [
       "\n",
       "A tibble: 195 × 5\n",
       "\n",
       "| status &lt;fct&gt; | jitter &lt;dbl&gt; | shimmer &lt;dbl&gt; | ppe &lt;dbl&gt; | hnr &lt;dbl&gt; |\n",
       "|---|---|---|---|---|\n",
       "| 1 | 7e-05 | 0.06545 | 0.284654 | 21.033 |\n",
       "| 1 | 8e-05 | 0.09403 | 0.368674 | 19.085 |\n",
       "| 1 | 9e-05 | 0.08270 | 0.332634 | 20.651 |\n",
       "| ⋮ | ⋮ | ⋮ | ⋮ | ⋮ |\n",
       "| 0 | 8e-05 | 0.03804 | 0.131728 | 17.883 |\n",
       "| 0 | 4e-05 | 0.03794 | 0.123306 | 19.020 |\n",
       "| 0 | 3e-05 | 0.03078 | 0.148569 | 21.209 |\n",
       "\n"
      ],
      "text/plain": [
       "    status jitter shimmer ppe      hnr   \n",
       "1   1      7e-05  0.06545 0.284654 21.033\n",
       "2   1      8e-05  0.09403 0.368674 19.085\n",
       "3   1      9e-05  0.08270 0.332634 20.651\n",
       "⋮   ⋮      ⋮      ⋮       ⋮        ⋮     \n",
       "193 0      8e-05  0.03804 0.131728 17.883\n",
       "194 0      4e-05  0.03794 0.123306 19.020\n",
       "195 0      3e-05  0.03078 0.148569 21.209"
      ]
     },
     "metadata": {},
     "output_type": "display_data"
    }
   ],
   "source": [
    "# Tidying and modifying parkinsons dataset\n",
    "\n",
    "parkinsons_data <- parkinsons_data |>\n",
    "    select(status, \"MDVP:Jitter(Abs)\", \"Shimmer:DDA\", PPE, HNR) |>\n",
    "    rename(jitter = \"MDVP:Jitter(Abs)\", shimmer = \"Shimmer:DDA\", ppe = PPE, hnr = HNR) |>\n",
    "    mutate(status = as_factor(status))\n",
    "\n",
    "parkinsons_data\n"
   ]
  },
  {
   "cell_type": "code",
   "execution_count": 39,
   "id": "b5ce444f-850f-40f9-ad3d-4de51a2866e5",
   "metadata": {
    "tags": []
   },
   "outputs": [],
   "source": [
    "# Using intital split to create training and testing datasets \n",
    "\n",
    "parkinsons_split <- initial_split(parkinsons_data, prop = 0.75, strata = status)\n",
    "parkinsons_train <- training(parkinsons_split)\n",
    "parkinsons_test <- testing(parkinsons_split)\n"
   ]
  },
  {
   "cell_type": "code",
   "execution_count": null,
   "id": "64ca518b-4c9b-4c8c-a935-b2ab35e7d4d6",
   "metadata": {
    "tags": []
   },
   "outputs": [],
   "source": []
  },
  {
   "cell_type": "markdown",
   "id": "e223b548-6637-499f-a482-94d83a923b00",
   "metadata": {},
   "source": [
    "## References\n",
    "\n",
    "Harel, B., Cannizzaro, M., & Snyder, P. J. (2004). Variability in fundamental frequency during speech in prodromal and incipient parkinson's disease: A longitudinal case study. Brain and Cognition, 56(1), 24-29. https://doi.org/10.1016/j.bandc.2004.05.002\n",
    "\n",
    "Jiménez-Jiménez, F. J., Gamboa, J., Nieto, A., Guerrero, J., Orti-Pareja, M., Molina, J. A., García-Albea, E., & Cobeta, I. (1997). Acoustic voice analysis in untreated patients with parkinson's disease. Parkinsonism & Related Disorders, 3(2), 111-116. https://doi.org/10.1016/S1353-8020(97)00007-2\n",
    "\n",
    "Little, M. A., McSharry, P. E., Hunter, E. J., Spielman, J., & Ramig, L. O. (2009). Suitability of dysphonia measurements for telemonitoring of parkinson's disease. IEEE Transactions on Biomedical Engineering, 56(4), 1015-1022. https://doi.org/10.1109/TBME.2008.2005954\n",
    "\n",
    "Ma, A., Lau, K. K., & Thyagarajan, D. (2020). Voice changes in Parkinson’s disease: What are they telling us?. Journal of Clinical Neuroscience, 72, 1-7. https://doi.org/10.1016/j.jocn.2019.12.029"
   ]
  },
  {
   "cell_type": "code",
   "execution_count": null,
   "id": "eca3b3e1-ca9d-43b1-b7df-fe956eba3e0c",
   "metadata": {},
   "outputs": [],
   "source": []
  }
 ],
 "metadata": {
  "kernelspec": {
   "display_name": "R",
   "language": "R",
   "name": "ir"
  },
  "language_info": {
   "codemirror_mode": "r",
   "file_extension": ".r",
   "mimetype": "text/x-r-source",
   "name": "R",
   "pygments_lexer": "r",
   "version": "4.2.2"
  }
 },
 "nbformat": 4,
 "nbformat_minor": 5
}
