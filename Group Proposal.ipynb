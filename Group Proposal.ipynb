{
 "cells": [
  {
   "cell_type": "markdown",
   "id": "5b6b9fce-b949-4c69-bab9-b6ef97d27fa8",
   "metadata": {},
   "source": [
    "## Group 6 Project Proposal\n",
    "# Introduction: \n",
    "Parkinson’s Disease (PD) is a progressive neurodegenerative disorder that impairs motor abilities and is characterized by tremors, stiffness, slowed movements and postural instability. Many individuals with PD also experience voice and speech problems including abnormal voice quality, volume and pitch (Ma et al., 2020). Evidence has shown that vocal changes manifest during the prodromal phase of PD, prior to the onset of clinical symptoms and diagnosis (Harel et al., 2004). This suggests that vocal measurements may be a potential biomarker to detect early stages of PD. Early detection and treatment of PD can slow disease progression and may help mitigate symptoms. \n",
    "\n",
    "To investigate potential vocal biomarkers of PD, we aim to answer the following question: Can we use acoustic measurements of voice to predict whether a patient has Parkinson’s disease based on voice recordings?\n",
    "\n",
    "To answer this question, we will analyze a dataset of various acoustic measurements from the vocal recordings of 31 subjects. This data was collected by Little et al. (2009). An average of 6 recordings of sustained vowel phonations were taken for each subject.  Each row in the dataset corresponds to one voice recording from a subject.\n",
    "\n",
    "Source: https://www.kaggle.com/datasets/gargmanas/parkinsonsdataset"
   ]
  },
  {
   "cell_type": "markdown",
   "id": "5d77da05-625e-48d8-84e5-31e004fa2790",
   "metadata": {},
   "source": [
    "## Methods"
   ]
  },
  {
   "cell_type": "code",
   "execution_count": null,
   "id": "9d2f129e-577c-49ce-9b7c-7efbcd9f7d68",
   "metadata": {},
   "outputs": [],
   "source": []
  }
 ],
 "metadata": {
  "kernelspec": {
   "display_name": "R",
   "language": "R",
   "name": "ir"
  },
  "language_info": {
   "codemirror_mode": "r",
   "file_extension": ".r",
   "mimetype": "text/x-r-source",
   "name": "R",
   "pygments_lexer": "r",
   "version": "4.2.2"
  }
 },
 "nbformat": 4,
 "nbformat_minor": 5
}
