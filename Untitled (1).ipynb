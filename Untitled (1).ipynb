{
 "cells": [
  {
   "cell_type": "code",
   "execution_count": 1,
   "id": "648c8220-fdcd-4983-ae10-6b066dbe1f8f",
   "metadata": {
    "tags": []
   },
   "outputs": [
    {
     "name": "stderr",
     "output_type": "stream",
     "text": [
      "── \u001b[1mAttaching packages\u001b[22m ─────────────────────────────────────── tidyverse 1.3.2 ──\n",
      "\u001b[32m✔\u001b[39m \u001b[34mggplot2\u001b[39m 3.4.2     \u001b[32m✔\u001b[39m \u001b[34mpurrr  \u001b[39m 1.0.1\n",
      "\u001b[32m✔\u001b[39m \u001b[34mtibble \u001b[39m 3.2.1     \u001b[32m✔\u001b[39m \u001b[34mdplyr  \u001b[39m 1.1.1\n",
      "\u001b[32m✔\u001b[39m \u001b[34mtidyr  \u001b[39m 1.3.0     \u001b[32m✔\u001b[39m \u001b[34mstringr\u001b[39m 1.5.0\n",
      "\u001b[32m✔\u001b[39m \u001b[34mreadr  \u001b[39m 2.1.3     \u001b[32m✔\u001b[39m \u001b[34mforcats\u001b[39m 0.5.2\n",
      "── \u001b[1mConflicts\u001b[22m ────────────────────────────────────────── tidyverse_conflicts() ──\n",
      "\u001b[31m✖\u001b[39m \u001b[34mdplyr\u001b[39m::\u001b[32mfilter()\u001b[39m masks \u001b[34mstats\u001b[39m::filter()\n",
      "\u001b[31m✖\u001b[39m \u001b[34mdplyr\u001b[39m::\u001b[32mlag()\u001b[39m    masks \u001b[34mstats\u001b[39m::lag()\n",
      "── \u001b[1mAttaching packages\u001b[22m ────────────────────────────────────── tidymodels 1.0.0 ──\n",
      "\n",
      "\u001b[32m✔\u001b[39m \u001b[34mbroom       \u001b[39m 1.0.2     \u001b[32m✔\u001b[39m \u001b[34mrsample     \u001b[39m 1.1.1\n",
      "\u001b[32m✔\u001b[39m \u001b[34mdials       \u001b[39m 1.1.0     \u001b[32m✔\u001b[39m \u001b[34mtune        \u001b[39m 1.0.1\n",
      "\u001b[32m✔\u001b[39m \u001b[34minfer       \u001b[39m 1.0.4     \u001b[32m✔\u001b[39m \u001b[34mworkflows   \u001b[39m 1.1.2\n",
      "\u001b[32m✔\u001b[39m \u001b[34mmodeldata   \u001b[39m 1.0.1     \u001b[32m✔\u001b[39m \u001b[34mworkflowsets\u001b[39m 1.0.0\n",
      "\u001b[32m✔\u001b[39m \u001b[34mparsnip     \u001b[39m 1.0.3     \u001b[32m✔\u001b[39m \u001b[34myardstick   \u001b[39m 1.1.0\n",
      "\u001b[32m✔\u001b[39m \u001b[34mrecipes     \u001b[39m 1.0.4     \n",
      "\n",
      "── \u001b[1mConflicts\u001b[22m ───────────────────────────────────────── tidymodels_conflicts() ──\n",
      "\u001b[31m✖\u001b[39m \u001b[34mscales\u001b[39m::\u001b[32mdiscard()\u001b[39m masks \u001b[34mpurrr\u001b[39m::discard()\n",
      "\u001b[31m✖\u001b[39m \u001b[34mdplyr\u001b[39m::\u001b[32mfilter()\u001b[39m   masks \u001b[34mstats\u001b[39m::filter()\n",
      "\u001b[31m✖\u001b[39m \u001b[34mrecipes\u001b[39m::\u001b[32mfixed()\u001b[39m  masks \u001b[34mstringr\u001b[39m::fixed()\n",
      "\u001b[31m✖\u001b[39m \u001b[34mdplyr\u001b[39m::\u001b[32mlag()\u001b[39m      masks \u001b[34mstats\u001b[39m::lag()\n",
      "\u001b[31m✖\u001b[39m \u001b[34myardstick\u001b[39m::\u001b[32mspec()\u001b[39m masks \u001b[34mreadr\u001b[39m::spec()\n",
      "\u001b[31m✖\u001b[39m \u001b[34mrecipes\u001b[39m::\u001b[32mstep()\u001b[39m   masks \u001b[34mstats\u001b[39m::step()\n",
      "\u001b[34m•\u001b[39m Dig deeper into tidy modeling with R at \u001b[32mhttps://www.tmwr.org\u001b[39m\n",
      "\n"
     ]
    }
   ],
   "source": [
    "library(tidyverse)\n",
    "library(repr)\n",
    "library(tidymodels)\n",
    "options(repr.matrix.max.rows = 6)\n"
   ]
  },
  {
   "cell_type": "code",
   "execution_count": 2,
   "id": "c5509979-dad5-437d-8a69-b1c802567463",
   "metadata": {
    "tags": []
   },
   "outputs": [
    {
     "name": "stderr",
     "output_type": "stream",
     "text": [
      "\u001b[1mRows: \u001b[22m\u001b[34m195\u001b[39m \u001b[1mColumns: \u001b[22m\u001b[34m24\u001b[39m\n",
      "\u001b[36m──\u001b[39m \u001b[1mColumn specification\u001b[22m \u001b[36m────────────────────────────────────────────────────────\u001b[39m\n",
      "\u001b[1mDelimiter:\u001b[22m \",\"\n",
      "\u001b[31mchr\u001b[39m  (1): name\n",
      "\u001b[32mdbl\u001b[39m (23): MDVP:Fo(Hz), MDVP:Fhi(Hz), MDVP:Flo(Hz), MDVP:Jitter(%), MDVP:Jitt...\n",
      "\n",
      "\u001b[36mℹ\u001b[39m Use `spec()` to retrieve the full column specification for this data.\n",
      "\u001b[36mℹ\u001b[39m Specify the column types or set `show_col_types = FALSE` to quiet this message.\n"
     ]
    },
    {
     "data": {
      "text/html": [
       "<table class=\"dataframe\">\n",
       "<caption>A spec_tbl_df: 195 × 24</caption>\n",
       "<thead>\n",
       "\t<tr><th scope=col>name</th><th scope=col>MDVP:Fo(Hz)</th><th scope=col>MDVP:Fhi(Hz)</th><th scope=col>MDVP:Flo(Hz)</th><th scope=col>MDVP:Jitter(%)</th><th scope=col>MDVP:Jitter(Abs)</th><th scope=col>MDVP:RAP</th><th scope=col>MDVP:PPQ</th><th scope=col>Jitter:DDP</th><th scope=col>MDVP:Shimmer</th><th scope=col>⋯</th><th scope=col>Shimmer:DDA</th><th scope=col>NHR</th><th scope=col>HNR</th><th scope=col>status</th><th scope=col>RPDE</th><th scope=col>DFA</th><th scope=col>spread1</th><th scope=col>spread2</th><th scope=col>D2</th><th scope=col>PPE</th></tr>\n",
       "\t<tr><th scope=col>&lt;chr&gt;</th><th scope=col>&lt;dbl&gt;</th><th scope=col>&lt;dbl&gt;</th><th scope=col>&lt;dbl&gt;</th><th scope=col>&lt;dbl&gt;</th><th scope=col>&lt;dbl&gt;</th><th scope=col>&lt;dbl&gt;</th><th scope=col>&lt;dbl&gt;</th><th scope=col>&lt;dbl&gt;</th><th scope=col>&lt;dbl&gt;</th><th scope=col>⋯</th><th scope=col>&lt;dbl&gt;</th><th scope=col>&lt;dbl&gt;</th><th scope=col>&lt;dbl&gt;</th><th scope=col>&lt;dbl&gt;</th><th scope=col>&lt;dbl&gt;</th><th scope=col>&lt;dbl&gt;</th><th scope=col>&lt;dbl&gt;</th><th scope=col>&lt;dbl&gt;</th><th scope=col>&lt;dbl&gt;</th><th scope=col>&lt;dbl&gt;</th></tr>\n",
       "</thead>\n",
       "<tbody>\n",
       "\t<tr><td>phon_R01_S01_1</td><td>119.992</td><td>157.302</td><td> 74.997</td><td>0.00784</td><td>7e-05</td><td>0.00370</td><td>0.00554</td><td>0.01109</td><td>0.04374</td><td>⋯</td><td>0.06545</td><td>0.02211</td><td>21.033</td><td>1</td><td>0.414783</td><td>0.815285</td><td>-4.813031</td><td>0.266482</td><td>2.301442</td><td>0.284654</td></tr>\n",
       "\t<tr><td>phon_R01_S01_2</td><td>122.400</td><td>148.650</td><td>113.819</td><td>0.00968</td><td>8e-05</td><td>0.00465</td><td>0.00696</td><td>0.01394</td><td>0.06134</td><td>⋯</td><td>0.09403</td><td>0.01929</td><td>19.085</td><td>1</td><td>0.458359</td><td>0.819521</td><td>-4.075192</td><td>0.335590</td><td>2.486855</td><td>0.368674</td></tr>\n",
       "\t<tr><td>phon_R01_S01_3</td><td>116.682</td><td>131.111</td><td>111.555</td><td>0.01050</td><td>9e-05</td><td>0.00544</td><td>0.00781</td><td>0.01633</td><td>0.05233</td><td>⋯</td><td>0.08270</td><td>0.01309</td><td>20.651</td><td>1</td><td>0.429895</td><td>0.825288</td><td>-4.443179</td><td>0.311173</td><td>2.342259</td><td>0.332634</td></tr>\n",
       "\t<tr><td>⋮</td><td>⋮</td><td>⋮</td><td>⋮</td><td>⋮</td><td>⋮</td><td>⋮</td><td>⋮</td><td>⋮</td><td>⋮</td><td>⋱</td><td>⋮</td><td>⋮</td><td>⋮</td><td>⋮</td><td>⋮</td><td>⋮</td><td>⋮</td><td>⋮</td><td>⋮</td><td>⋮</td></tr>\n",
       "\t<tr><td>phon_R01_S50_4</td><td>174.688</td><td>240.005</td><td>74.287</td><td>0.01360</td><td>8e-05</td><td>0.00624</td><td>0.00564</td><td>0.01873</td><td>0.02308</td><td>⋯</td><td>0.03804</td><td>0.10715</td><td>17.883</td><td>0</td><td>0.407567</td><td>0.655683</td><td>-6.787197</td><td>0.158453</td><td>2.679772</td><td>0.131728</td></tr>\n",
       "\t<tr><td>phon_R01_S50_5</td><td>198.764</td><td>396.961</td><td>74.904</td><td>0.00740</td><td>4e-05</td><td>0.00370</td><td>0.00390</td><td>0.01109</td><td>0.02296</td><td>⋯</td><td>0.03794</td><td>0.07223</td><td>19.020</td><td>0</td><td>0.451221</td><td>0.643956</td><td>-6.744577</td><td>0.207454</td><td>2.138608</td><td>0.123306</td></tr>\n",
       "\t<tr><td>phon_R01_S50_6</td><td>214.289</td><td>260.277</td><td>77.973</td><td>0.00567</td><td>3e-05</td><td>0.00295</td><td>0.00317</td><td>0.00885</td><td>0.01884</td><td>⋯</td><td>0.03078</td><td>0.04398</td><td>21.209</td><td>0</td><td>0.462803</td><td>0.664357</td><td>-5.724056</td><td>0.190667</td><td>2.555477</td><td>0.148569</td></tr>\n",
       "</tbody>\n",
       "</table>\n"
      ],
      "text/latex": [
       "A spec\\_tbl\\_df: 195 × 24\n",
       "\\begin{tabular}{lllllllllllllllllllll}\n",
       " name & MDVP:Fo(Hz) & MDVP:Fhi(Hz) & MDVP:Flo(Hz) & MDVP:Jitter(\\%) & MDVP:Jitter(Abs) & MDVP:RAP & MDVP:PPQ & Jitter:DDP & MDVP:Shimmer & ⋯ & Shimmer:DDA & NHR & HNR & status & RPDE & DFA & spread1 & spread2 & D2 & PPE\\\\\n",
       " <chr> & <dbl> & <dbl> & <dbl> & <dbl> & <dbl> & <dbl> & <dbl> & <dbl> & <dbl> & ⋯ & <dbl> & <dbl> & <dbl> & <dbl> & <dbl> & <dbl> & <dbl> & <dbl> & <dbl> & <dbl>\\\\\n",
       "\\hline\n",
       "\t phon\\_R01\\_S01\\_1 & 119.992 & 157.302 &  74.997 & 0.00784 & 7e-05 & 0.00370 & 0.00554 & 0.01109 & 0.04374 & ⋯ & 0.06545 & 0.02211 & 21.033 & 1 & 0.414783 & 0.815285 & -4.813031 & 0.266482 & 2.301442 & 0.284654\\\\\n",
       "\t phon\\_R01\\_S01\\_2 & 122.400 & 148.650 & 113.819 & 0.00968 & 8e-05 & 0.00465 & 0.00696 & 0.01394 & 0.06134 & ⋯ & 0.09403 & 0.01929 & 19.085 & 1 & 0.458359 & 0.819521 & -4.075192 & 0.335590 & 2.486855 & 0.368674\\\\\n",
       "\t phon\\_R01\\_S01\\_3 & 116.682 & 131.111 & 111.555 & 0.01050 & 9e-05 & 0.00544 & 0.00781 & 0.01633 & 0.05233 & ⋯ & 0.08270 & 0.01309 & 20.651 & 1 & 0.429895 & 0.825288 & -4.443179 & 0.311173 & 2.342259 & 0.332634\\\\\n",
       "\t ⋮ & ⋮ & ⋮ & ⋮ & ⋮ & ⋮ & ⋮ & ⋮ & ⋮ & ⋮ & ⋱ & ⋮ & ⋮ & ⋮ & ⋮ & ⋮ & ⋮ & ⋮ & ⋮ & ⋮ & ⋮\\\\\n",
       "\t phon\\_R01\\_S50\\_4 & 174.688 & 240.005 & 74.287 & 0.01360 & 8e-05 & 0.00624 & 0.00564 & 0.01873 & 0.02308 & ⋯ & 0.03804 & 0.10715 & 17.883 & 0 & 0.407567 & 0.655683 & -6.787197 & 0.158453 & 2.679772 & 0.131728\\\\\n",
       "\t phon\\_R01\\_S50\\_5 & 198.764 & 396.961 & 74.904 & 0.00740 & 4e-05 & 0.00370 & 0.00390 & 0.01109 & 0.02296 & ⋯ & 0.03794 & 0.07223 & 19.020 & 0 & 0.451221 & 0.643956 & -6.744577 & 0.207454 & 2.138608 & 0.123306\\\\\n",
       "\t phon\\_R01\\_S50\\_6 & 214.289 & 260.277 & 77.973 & 0.00567 & 3e-05 & 0.00295 & 0.00317 & 0.00885 & 0.01884 & ⋯ & 0.03078 & 0.04398 & 21.209 & 0 & 0.462803 & 0.664357 & -5.724056 & 0.190667 & 2.555477 & 0.148569\\\\\n",
       "\\end{tabular}\n"
      ],
      "text/markdown": [
       "\n",
       "A spec_tbl_df: 195 × 24\n",
       "\n",
       "| name &lt;chr&gt; | MDVP:Fo(Hz) &lt;dbl&gt; | MDVP:Fhi(Hz) &lt;dbl&gt; | MDVP:Flo(Hz) &lt;dbl&gt; | MDVP:Jitter(%) &lt;dbl&gt; | MDVP:Jitter(Abs) &lt;dbl&gt; | MDVP:RAP &lt;dbl&gt; | MDVP:PPQ &lt;dbl&gt; | Jitter:DDP &lt;dbl&gt; | MDVP:Shimmer &lt;dbl&gt; | ⋯ ⋯ | Shimmer:DDA &lt;dbl&gt; | NHR &lt;dbl&gt; | HNR &lt;dbl&gt; | status &lt;dbl&gt; | RPDE &lt;dbl&gt; | DFA &lt;dbl&gt; | spread1 &lt;dbl&gt; | spread2 &lt;dbl&gt; | D2 &lt;dbl&gt; | PPE &lt;dbl&gt; |\n",
       "|---|---|---|---|---|---|---|---|---|---|---|---|---|---|---|---|---|---|---|---|---|\n",
       "| phon_R01_S01_1 | 119.992 | 157.302 |  74.997 | 0.00784 | 7e-05 | 0.00370 | 0.00554 | 0.01109 | 0.04374 | ⋯ | 0.06545 | 0.02211 | 21.033 | 1 | 0.414783 | 0.815285 | -4.813031 | 0.266482 | 2.301442 | 0.284654 |\n",
       "| phon_R01_S01_2 | 122.400 | 148.650 | 113.819 | 0.00968 | 8e-05 | 0.00465 | 0.00696 | 0.01394 | 0.06134 | ⋯ | 0.09403 | 0.01929 | 19.085 | 1 | 0.458359 | 0.819521 | -4.075192 | 0.335590 | 2.486855 | 0.368674 |\n",
       "| phon_R01_S01_3 | 116.682 | 131.111 | 111.555 | 0.01050 | 9e-05 | 0.00544 | 0.00781 | 0.01633 | 0.05233 | ⋯ | 0.08270 | 0.01309 | 20.651 | 1 | 0.429895 | 0.825288 | -4.443179 | 0.311173 | 2.342259 | 0.332634 |\n",
       "| ⋮ | ⋮ | ⋮ | ⋮ | ⋮ | ⋮ | ⋮ | ⋮ | ⋮ | ⋮ | ⋱ | ⋮ | ⋮ | ⋮ | ⋮ | ⋮ | ⋮ | ⋮ | ⋮ | ⋮ | ⋮ |\n",
       "| phon_R01_S50_4 | 174.688 | 240.005 | 74.287 | 0.01360 | 8e-05 | 0.00624 | 0.00564 | 0.01873 | 0.02308 | ⋯ | 0.03804 | 0.10715 | 17.883 | 0 | 0.407567 | 0.655683 | -6.787197 | 0.158453 | 2.679772 | 0.131728 |\n",
       "| phon_R01_S50_5 | 198.764 | 396.961 | 74.904 | 0.00740 | 4e-05 | 0.00370 | 0.00390 | 0.01109 | 0.02296 | ⋯ | 0.03794 | 0.07223 | 19.020 | 0 | 0.451221 | 0.643956 | -6.744577 | 0.207454 | 2.138608 | 0.123306 |\n",
       "| phon_R01_S50_6 | 214.289 | 260.277 | 77.973 | 0.00567 | 3e-05 | 0.00295 | 0.00317 | 0.00885 | 0.01884 | ⋯ | 0.03078 | 0.04398 | 21.209 | 0 | 0.462803 | 0.664357 | -5.724056 | 0.190667 | 2.555477 | 0.148569 |\n",
       "\n"
      ],
      "text/plain": [
       "    name           MDVP:Fo(Hz) MDVP:Fhi(Hz) MDVP:Flo(Hz) MDVP:Jitter(%)\n",
       "1   phon_R01_S01_1 119.992     157.302       74.997      0.00784       \n",
       "2   phon_R01_S01_2 122.400     148.650      113.819      0.00968       \n",
       "3   phon_R01_S01_3 116.682     131.111      111.555      0.01050       \n",
       "⋮   ⋮              ⋮           ⋮            ⋮            ⋮             \n",
       "193 phon_R01_S50_4 174.688     240.005      74.287       0.01360       \n",
       "194 phon_R01_S50_5 198.764     396.961      74.904       0.00740       \n",
       "195 phon_R01_S50_6 214.289     260.277      77.973       0.00567       \n",
       "    MDVP:Jitter(Abs) MDVP:RAP MDVP:PPQ Jitter:DDP MDVP:Shimmer ⋯ Shimmer:DDA\n",
       "1   7e-05            0.00370  0.00554  0.01109    0.04374      ⋯ 0.06545    \n",
       "2   8e-05            0.00465  0.00696  0.01394    0.06134      ⋯ 0.09403    \n",
       "3   9e-05            0.00544  0.00781  0.01633    0.05233      ⋯ 0.08270    \n",
       "⋮   ⋮                ⋮        ⋮        ⋮          ⋮            ⋱ ⋮          \n",
       "193 8e-05            0.00624  0.00564  0.01873    0.02308      ⋯ 0.03804    \n",
       "194 4e-05            0.00370  0.00390  0.01109    0.02296      ⋯ 0.03794    \n",
       "195 3e-05            0.00295  0.00317  0.00885    0.01884      ⋯ 0.03078    \n",
       "    NHR     HNR    status RPDE     DFA      spread1   spread2  D2      \n",
       "1   0.02211 21.033 1      0.414783 0.815285 -4.813031 0.266482 2.301442\n",
       "2   0.01929 19.085 1      0.458359 0.819521 -4.075192 0.335590 2.486855\n",
       "3   0.01309 20.651 1      0.429895 0.825288 -4.443179 0.311173 2.342259\n",
       "⋮   ⋮       ⋮      ⋮      ⋮        ⋮        ⋮         ⋮        ⋮       \n",
       "193 0.10715 17.883 0      0.407567 0.655683 -6.787197 0.158453 2.679772\n",
       "194 0.07223 19.020 0      0.451221 0.643956 -6.744577 0.207454 2.138608\n",
       "195 0.04398 21.209 0      0.462803 0.664357 -5.724056 0.190667 2.555477\n",
       "    PPE     \n",
       "1   0.284654\n",
       "2   0.368674\n",
       "3   0.332634\n",
       "⋮   ⋮       \n",
       "193 0.131728\n",
       "194 0.123306\n",
       "195 0.148569"
      ]
     },
     "metadata": {},
     "output_type": "display_data"
    }
   ],
   "source": [
    "url <- \"https://raw.githubusercontent.com/naomichoong/ds_project/main/parkinsons.csv\"\n",
    "parkinsons_data <- read_csv(url)\n",
    "parkinsons_data"
   ]
  },
  {
   "cell_type": "code",
   "execution_count": 3,
   "id": "3e6e3c16-79eb-4df8-ac4c-bbd31163929b",
   "metadata": {
    "tags": []
   },
   "outputs": [
    {
     "data": {
      "text/html": [
       "<table class=\"dataframe\">\n",
       "<caption>A tibble: 195 × 5</caption>\n",
       "<thead>\n",
       "\t<tr><th scope=col>status</th><th scope=col>jitter</th><th scope=col>shimmer</th><th scope=col>ppe</th><th scope=col>hnr</th></tr>\n",
       "\t<tr><th scope=col>&lt;fct&gt;</th><th scope=col>&lt;dbl&gt;</th><th scope=col>&lt;dbl&gt;</th><th scope=col>&lt;dbl&gt;</th><th scope=col>&lt;dbl&gt;</th></tr>\n",
       "</thead>\n",
       "<tbody>\n",
       "\t<tr><td>Parkinson's</td><td>7e-05</td><td>0.06545</td><td>0.284654</td><td>21.033</td></tr>\n",
       "\t<tr><td>Parkinson's</td><td>8e-05</td><td>0.09403</td><td>0.368674</td><td>19.085</td></tr>\n",
       "\t<tr><td>Parkinson's</td><td>9e-05</td><td>0.08270</td><td>0.332634</td><td>20.651</td></tr>\n",
       "\t<tr><td>⋮</td><td>⋮</td><td>⋮</td><td>⋮</td><td>⋮</td></tr>\n",
       "\t<tr><td>Healthy</td><td>8e-05</td><td>0.03804</td><td>0.131728</td><td>17.883</td></tr>\n",
       "\t<tr><td>Healthy</td><td>4e-05</td><td>0.03794</td><td>0.123306</td><td>19.020</td></tr>\n",
       "\t<tr><td>Healthy</td><td>3e-05</td><td>0.03078</td><td>0.148569</td><td>21.209</td></tr>\n",
       "</tbody>\n",
       "</table>\n"
      ],
      "text/latex": [
       "A tibble: 195 × 5\n",
       "\\begin{tabular}{lllll}\n",
       " status & jitter & shimmer & ppe & hnr\\\\\n",
       " <fct> & <dbl> & <dbl> & <dbl> & <dbl>\\\\\n",
       "\\hline\n",
       "\t Parkinson's & 7e-05 & 0.06545 & 0.284654 & 21.033\\\\\n",
       "\t Parkinson's & 8e-05 & 0.09403 & 0.368674 & 19.085\\\\\n",
       "\t Parkinson's & 9e-05 & 0.08270 & 0.332634 & 20.651\\\\\n",
       "\t ⋮ & ⋮ & ⋮ & ⋮ & ⋮\\\\\n",
       "\t Healthy & 8e-05 & 0.03804 & 0.131728 & 17.883\\\\\n",
       "\t Healthy & 4e-05 & 0.03794 & 0.123306 & 19.020\\\\\n",
       "\t Healthy & 3e-05 & 0.03078 & 0.148569 & 21.209\\\\\n",
       "\\end{tabular}\n"
      ],
      "text/markdown": [
       "\n",
       "A tibble: 195 × 5\n",
       "\n",
       "| status &lt;fct&gt; | jitter &lt;dbl&gt; | shimmer &lt;dbl&gt; | ppe &lt;dbl&gt; | hnr &lt;dbl&gt; |\n",
       "|---|---|---|---|---|\n",
       "| Parkinson's | 7e-05 | 0.06545 | 0.284654 | 21.033 |\n",
       "| Parkinson's | 8e-05 | 0.09403 | 0.368674 | 19.085 |\n",
       "| Parkinson's | 9e-05 | 0.08270 | 0.332634 | 20.651 |\n",
       "| ⋮ | ⋮ | ⋮ | ⋮ | ⋮ |\n",
       "| Healthy | 8e-05 | 0.03804 | 0.131728 | 17.883 |\n",
       "| Healthy | 4e-05 | 0.03794 | 0.123306 | 19.020 |\n",
       "| Healthy | 3e-05 | 0.03078 | 0.148569 | 21.209 |\n",
       "\n"
      ],
      "text/plain": [
       "    status      jitter shimmer ppe      hnr   \n",
       "1   Parkinson's 7e-05  0.06545 0.284654 21.033\n",
       "2   Parkinson's 8e-05  0.09403 0.368674 19.085\n",
       "3   Parkinson's 9e-05  0.08270 0.332634 20.651\n",
       "⋮   ⋮           ⋮      ⋮       ⋮        ⋮     \n",
       "193 Healthy     8e-05  0.03804 0.131728 17.883\n",
       "194 Healthy     4e-05  0.03794 0.123306 19.020\n",
       "195 Healthy     3e-05  0.03078 0.148569 21.209"
      ]
     },
     "metadata": {},
     "output_type": "display_data"
    }
   ],
   "source": [
    "parkinsons_data <- parkinsons_data |>\n",
    "select(status, \"MDVP:Jitter(Abs)\", \"Shimmer:DDA\", PPE, HNR) |>\n",
    "rename(jitter = \"MDVP:Jitter(Abs)\", shimmer = \"Shimmer:DDA\", ppe = PPE, hnr = HNR) |>\n",
    "mutate(status = as_factor(status)) |>\n",
    "mutate(status = fct_recode(status, \"Parkinson's\" = \"1\", \"Healthy\" = \"0\"))\n",
    "parkinsons_data\n",
    "\n"
   ]
  },
  {
   "cell_type": "code",
   "execution_count": 4,
   "id": "ba8b9896-744f-423e-a182-f3c66721bb60",
   "metadata": {
    "tags": []
   },
   "outputs": [],
   "source": [
    "parkinsons_split <- initial_split(parkinsons_data, prop = 0.75, strata = status)\n",
    "parkinsons_train <- training(parkinsons_split)\n",
    "parkinsons_test <- testing(parkinsons_split)"
   ]
  },
  {
   "cell_type": "code",
   "execution_count": 15,
   "id": "794a0192-4a43-4f73-bb4b-828b6e889784",
   "metadata": {
    "tags": []
   },
   "outputs": [
    {
     "data": {
      "text/html": [
       "<table class=\"dataframe\">\n",
       "<caption>A tibble: 2 × 2</caption>\n",
       "<thead>\n",
       "\t<tr><th scope=col>status</th><th scope=col>count</th></tr>\n",
       "\t<tr><th scope=col>&lt;fct&gt;</th><th scope=col>&lt;int&gt;</th></tr>\n",
       "</thead>\n",
       "<tbody>\n",
       "\t<tr><td>Healthy    </td><td> 36</td></tr>\n",
       "\t<tr><td>Parkinson's</td><td>110</td></tr>\n",
       "</tbody>\n",
       "</table>\n"
      ],
      "text/latex": [
       "A tibble: 2 × 2\n",
       "\\begin{tabular}{ll}\n",
       " status & count\\\\\n",
       " <fct> & <int>\\\\\n",
       "\\hline\n",
       "\t Healthy     &  36\\\\\n",
       "\t Parkinson's & 110\\\\\n",
       "\\end{tabular}\n"
      ],
      "text/markdown": [
       "\n",
       "A tibble: 2 × 2\n",
       "\n",
       "| status &lt;fct&gt; | count &lt;int&gt; |\n",
       "|---|---|\n",
       "| Healthy     |  36 |\n",
       "| Parkinson's | 110 |\n",
       "\n"
      ],
      "text/plain": [
       "  status      count\n",
       "1 Healthy      36  \n",
       "2 Parkinson's 110  "
      ]
     },
     "metadata": {},
     "output_type": "display_data"
    },
    {
     "data": {
      "text/html": [
       "<dl>\n",
       "\t<dt>$jitter</dt>\n",
       "\t\t<dd>4.57123287671233e-05</dd>\n",
       "\t<dt>$shimmer</dt>\n",
       "\t\t<dd>0.0472366438356164</dd>\n",
       "\t<dt>$ppe</dt>\n",
       "\t\t<dd>0.209970561643836</dd>\n",
       "\t<dt>$hnr</dt>\n",
       "\t\t<dd>21.8445136986301</dd>\n",
       "</dl>\n"
      ],
      "text/latex": [
       "\\begin{description}\n",
       "\\item[\\$jitter] 4.57123287671233e-05\n",
       "\\item[\\$shimmer] 0.0472366438356164\n",
       "\\item[\\$ppe] 0.209970561643836\n",
       "\\item[\\$hnr] 21.8445136986301\n",
       "\\end{description}\n"
      ],
      "text/markdown": [
       "$jitter\n",
       ":   4.57123287671233e-05\n",
       "$shimmer\n",
       ":   0.0472366438356164\n",
       "$ppe\n",
       ":   0.209970561643836\n",
       "$hnr\n",
       ":   21.8445136986301\n",
       "\n",
       "\n"
      ],
      "text/plain": [
       "$jitter\n",
       "[1] 4.571233e-05\n",
       "\n",
       "$shimmer\n",
       "[1] 0.04723664\n",
       "\n",
       "$ppe\n",
       "[1] 0.2099706\n",
       "\n",
       "$hnr\n",
       "[1] 21.84451\n"
      ]
     },
     "metadata": {},
     "output_type": "display_data"
    }
   ],
   "source": [
    "parkinsons_initial_summary <- parkinsons_train |>\n",
    "group_by(status) |>\n",
    "summarise(count = n())\n",
    "parkinsons_initial_summary\n",
    "parkinsons_initial_summary_2 <- parkinsons_train |>\n",
    "select(c(jitter, shimmer, ppe, hnr)) |>\n",
    "map(mean)\n",
    "parkinsons_initial_summary_2"
   ]
  },
  {
   "cell_type": "code",
   "execution_count": null,
   "id": "1856d5d2-47cb-40e6-abb3-360291da8bfd",
   "metadata": {
    "tags": []
   },
   "outputs": [],
   "source": [
    "options(repr.plot.width = 4, repr.plot.height = 2)\n",
    "jitter_plot <- parkinsons_train |>\n",
    "ggplot(aes(x = jitter, y = status, fill = status)) + geom_bar(stat = \"identity\") +\n",
    "xlab(\"MDVP:Jitter \\n (Abs)\") + ylab(\"Diagnosis of Patient\") + labs(fill = \"Diagnosis\")\n",
    "shimmer_plot <- parkinsons_train |>\n",
    "ggplot(aes(x = shimmer, y = status, fill = status)) + geom_bar(stat = \"identity\") +\n",
    "xlab(\"Shimmer:DDA\") + ylab(\"Diagnosis of Patient\") + labs(fill = \"Diagnosis\")\n",
    "ppe_plot <- parkinsons_train |>\n",
    "ggplot(aes(x = ppe, y = status, fill = status)) + geom_bar(stat = \"identity\") +\n",
    "xlab(\"Pitch Period Entropy \\n (variation in pitch)\") + ylab(\"Diagnosis of Patient\") + labs(fill = \"Diagnosis\")\n",
    "hnr_plot <- parkinsons_train |>\n",
    "ggplot(aes(x = ppe, y = status, fill = status)) + geom_bar(stat = \"identity\") +\n",
    "xlab(\"Harmonics-To-Noise Ratio \\n (amount of additive noise in voice)\") + ylab(\"Diagnosis of Patient\") + labs(fill = \"Diagnosis\")\n",
    "\n",
    "jitter_plot\n",
    "shimmer_plot\n",
    "ppe_plot\n",
    "hnr_plot"
   ]
  },
  {
   "cell_type": "code",
   "execution_count": null,
   "id": "feef0625-cdbf-4d73-9a08-1cc8d2a0b476",
   "metadata": {},
   "outputs": [],
   "source": []
  }
 ],
 "metadata": {
  "kernelspec": {
   "display_name": "R",
   "language": "R",
   "name": "ir"
  },
  "language_info": {
   "codemirror_mode": "r",
   "file_extension": ".r",
   "mimetype": "text/x-r-source",
   "name": "R",
   "pygments_lexer": "r",
   "version": "4.2.2"
  }
 },
 "nbformat": 4,
 "nbformat_minor": 5
}
