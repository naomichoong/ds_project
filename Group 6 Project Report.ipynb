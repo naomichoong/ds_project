{
 "cells": [
  {
   "cell_type": "markdown",
   "id": "5b6b9fce-b949-4c69-bab9-b6ef97d27fa8",
   "metadata": {
    "tags": []
   },
   "source": [
    "# Assessing Vocal Measurements to Predict Parkinson’s Disease\n",
    "\n",
    "Group 6 proposal: Naomi Choong, Yashas Ganesh Prasad, Braydon Newman, Marylyn Yuwono\n",
    "\n",
    "# Introduction: \n",
    "Parkinson’s Disease (PD), a progressive neurodegenerative disorder impairing motor abilities, is characterized by tremors, stiffness, and slowed movements. Many individuals with PD also experience voice problems including abnormal voice quality, volume and pitch (Ma et al., 2020). Evidence shows vocal changes manifest during the prodromal phase of PD, prior to onset of clinical symptoms and diagnosis (Harel et al., 2004). This suggests that vocal measurements may be a potential biomarker to detect early stage PD. Early detection and treatment can slow disease progression and may help mitigate symptoms. \n",
    "\n",
    "To investigate potential vocal biomarkers of PD, we aim to answer the following question: **Can acoustic measurements of voice predict Parkinson’s disease based on voice recordings?**\n",
    "\n",
    "We will analyze a dataset of various acoustic measurements from vocal recordings of 31 subjects. Data was collected by Little et al. (2009). An average of 6 recordings of sustained vowel phonation were taken for each subject.  Each row in the dataset corresponds to one voice recording from a subject.\n",
    "\n",
    "Source: https://www.kaggle.com/datasets/gargmanas/parkinsonsdataset\n",
    "\n",
    "## Variables\n",
    "To examine the predictive potential of acoustic measurements, we will use the K-nearest neighbors classification algorithm. Variables were selected based on past literature, showing patients with PD had higher jitter, shimmer, and pitch variability, and reduced harmonics to noise ratio compared to healthy subjects (Jiménez-Jiménez et al., 1997; Ma et al., 2020). \n",
    "\n",
    "\n",
    "Variables used:\n",
    "- `status` - health status of subject; Parkinson’s = 1, healthy =0\n",
    "- `MDVP:Jitter (abs)` - absolute jitter in microseconds (variation in frequency)\n",
    "- `Shimmer:DDA` - local shimmer in decibels (variation in amplitude)\n",
    "- `PPE` - pitch period entropy (variation in pitch)\n",
    "- `HNR` - harmonics-to-noise ratio (quantifies amount of additive noise in voice)\n"
   ]
  },
  {
   "cell_type": "markdown",
   "id": "0a8e82a9-9a26-45bc-ba7f-567e190c00e3",
   "metadata": {},
   "source": [
    "# Read and Tidy Data\n",
    "... \n"
   ]
  },
  {
   "cell_type": "code",
   "execution_count": null,
   "id": "9d2f129e-577c-49ce-9b7c-7efbcd9f7d68",
   "metadata": {
    "tags": []
   },
   "outputs": [],
   "source": [
    "library(tidyverse)\n",
    "library(repr)\n",
    "library(tidymodels)\n",
    "options(repr.matrix.max.rows = 6)\n",
    "install.packages(\"kknn\")\n",
    "library(kknn)"
   ]
  },
  {
   "cell_type": "code",
   "execution_count": null,
   "id": "84bd499e-34df-4c74-b2dc-2586a8144c0d",
   "metadata": {
    "tags": []
   },
   "outputs": [],
   "source": [
    "# reading dataset using URL from GitHub\n",
    "set.seed(1234)\n",
    "\n",
    "url <- \"https://raw.githubusercontent.com/naomichoong/ds_project/main/parkinsons.csv\"\n",
    "parkinsons_data <- read_csv(url)\n",
    "parkinsons_data"
   ]
  },
  {
   "cell_type": "code",
   "execution_count": null,
   "id": "32541bcf-a98f-4d49-a62d-08648ce082c7",
   "metadata": {
    "tags": []
   },
   "outputs": [],
   "source": [
    "# Tidying and modifying parkinsons dataset\n",
    "\n",
    "parkinsons_data <- parkinsons_data |>\n",
    "    select(status, \"MDVP:Jitter(Abs)\", \"Shimmer:DDA\", PPE, HNR) |>\n",
    "    rename(jitter = \"MDVP:Jitter(Abs)\", shimmer = \"Shimmer:DDA\", ppe = PPE, hnr = HNR) |>\n",
    "    mutate(status = as_factor(status)) |>\n",
    "    mutate(status = fct_recode(status, \"Parkinson's\" = \"1\", \"Healthy\" = \"0\"))\n",
    "parkinsons_data\n"
   ]
  },
  {
   "cell_type": "markdown",
   "id": "08ca4fdb-1c62-4903-8b1b-0be320e461dc",
   "metadata": {},
   "source": [
    "# Summarize data\n",
    "... \n",
    "\n"
   ]
  },
  {
   "cell_type": "code",
   "execution_count": null,
   "id": "b5ce444f-850f-40f9-ad3d-4de51a2866e5",
   "metadata": {
    "tags": []
   },
   "outputs": [],
   "source": [
    "# Using intital split to create training and testing datasets \n",
    "\n",
    "parkinsons_split <- initial_split(parkinsons_data, prop = 0.75, strata = status)\n",
    "parkinsons_train <- training(parkinsons_split)\n",
    "parkinsons_test <- testing(parkinsons_split)\n"
   ]
  },
  {
   "cell_type": "code",
   "execution_count": null,
   "id": "64ca518b-4c9b-4c8c-a935-b2ab35e7d4d6",
   "metadata": {
    "tags": []
   },
   "outputs": [],
   "source": [
    "# summary statistics of training data\n",
    "\n",
    "parkinsons_count <- parkinsons_train |>\n",
    "    group_by(status) |>\n",
    "    summarise(count = n())\n",
    "\n",
    "parkinsons_count\n",
    "\n",
    "parkinsons_mean <- parkinsons_train |>\n",
    "    select(jitter, shimmer, ppe, hnr) |>\n",
    "    map_df(mean)\n",
    "\n",
    "parkinsons_mean\n",
    "\n",
    "comparison_mean <- parkinsons_train |>\n",
    "    group_by(status) |>\n",
    "    summarize(mean_jitter = mean(jitter), \n",
    "           mean_shimmer = mean(shimmer), \n",
    "           mean_ppe = mean(ppe), \n",
    "           mean_hnr = mean(hnr)) \n",
    "\n",
    "comparison_mean\n",
    "\n",
    "parkinsons_missing <- sum(is.na(parkinsons_train))\n",
    "parkinsons_missing\n"
   ]
  },
  {
   "cell_type": "markdown",
   "id": "c4f51f83-fc38-4978-ac01-f4a8389a25ed",
   "metadata": {},
   "source": [
    "# Exploratory Data Visualization\n",
    "...\n",
    "\n"
   ]
  },
  {
   "cell_type": "code",
   "execution_count": null,
   "id": "d9a88ffc-95fe-4d7a-8287-2e6942267f7e",
   "metadata": {
    "tags": []
   },
   "outputs": [],
   "source": [
    "# preliminary data visualization - exploratory data analysis of training data\n",
    "\n",
    "options(repr.plot.width = 5, repr.plot.height = 4)\n",
    "jitter_plot <- parkinsons_train |>\n",
    "    ggplot(aes(x = jitter, fill = status)) +\n",
    "    geom_histogram() +\n",
    "    facet_grid(rows = vars(status)) +\n",
    "    labs(x = \"Absolute Jitter (microseconds)\",\n",
    "         y = \"Number of observations\",\n",
    "         fill = \"Diagnosis\") +\n",
    "    scale_x_continuous(limits = c(0, 0.0003)) +\n",
    "    ggtitle(\"Fig 1. Distribution of Jitter by Diagnosis\") +\n",
    "    theme(text = element_text(size = 12))\n",
    "\n",
    "jitter_plot\n",
    "\n",
    "shimmer_plot <- parkinsons_train |>\n",
    "    ggplot(aes(x = shimmer, fill = status)) +\n",
    "    geom_histogram() +\n",
    "    facet_grid(rows = vars(status)) +\n",
    "    labs(x = \"Local Shimmer (decibels)\",\n",
    "         y = \"Number of Observations\",\n",
    "         fill = \"Diagnosis\") +\n",
    "    scale_x_continuous(limits = c(0, 0.20)) +\n",
    "    ggtitle(\"Fig 2. Distribution of Shimmer by Diagnosis\") +\n",
    "    theme(text = element_text(size = 12))\n",
    "\n",
    "shimmer_plot\n",
    "\n",
    "ppe_plot <- parkinsons_train |>\n",
    "    ggplot(aes(x = ppe, fill = status)) +\n",
    "    geom_histogram() +\n",
    "    facet_grid(rows = vars(status)) +\n",
    "    labs(x = \"Pitch Period Entropy\",\n",
    "         y = \"Number of Observations\",\n",
    "         fill = \"Diagnosis\") +\n",
    "        scale_x_continuous(limits = c(0, 0.6)) +\n",
    "    ggtitle(\"Fig 3. Distribution of Pitch Period Entrophy \\n by Diagnosis\") +\n",
    "    theme(text = element_text(size = 12))\n",
    "\n",
    "ppe_plot\n",
    "\n",
    "hnr_plot <- parkinsons_train |>\n",
    "    ggplot(aes(x = hnr, fill = status)) +\n",
    "    geom_histogram() +\n",
    "    facet_grid(rows = vars(status)) +\n",
    "    labs(x = \"Harmonics-to-Noise Ratio\",\n",
    "         y = \"Number of Observations\",\n",
    "         fill = \"Diagnosis\") +\n",
    "    scale_x_continuous(limits = c(0, 40)) +\n",
    "    ggtitle(\"Fig 4. Distribution of Harmonics-to-Noise \\n Ratio by Diagnosis\") +\n",
    "    theme(text = element_text(size = 12))\n",
    "\n",
    "hnr_plot"
   ]
  },
  {
   "cell_type": "markdown",
   "id": "df642852-2648-498e-8324-bcf99cc4df0c",
   "metadata": {},
   "source": [
    "## Preliminary Data Analysis Results\n",
    "..."
   ]
  },
  {
   "cell_type": "markdown",
   "id": "6e182f74-f55b-4b93-a470-f53d73081e5a",
   "metadata": {},
   "source": [
    "# K-Nearest Neighbours Classification Analysis\n",
    "To investigate our question, the dataset was split into a training and testing set. The optimal k value was selected using a 5-fold cross validation on the training set. The k value with the highest accuracy estimate was used. The final model will be built using the optimal k value and used to evaluate the accuracy of our classifier on the test set. By computing and evaluating metrics for our classification model, we will be able to examine whether acoustic measures of voice can predict Parkinson’s disease. \n",
    "\n",
    "A line plot showing the accuracy estimate against the number of nearest neighbors (k) will be used to visualize results. Each point represents the accuracy of the K-nearest neighbors algorithm at a specific value of k, which helps determine the optimal value of k for our classification model. The final stacked bar plot will represent the health status of the subject by the predicted diagnosis of the subjects to evaluate the strength of our classifier. "
   ]
  },
  {
   "cell_type": "code",
   "execution_count": null,
   "id": "e27000f4-d68d-47b3-8f66-d3f76a3399cf",
   "metadata": {
    "tags": []
   },
   "outputs": [],
   "source": [
    "# K-nearest neighbours classification analysis\n",
    "set.seed(1234)\n",
    "options(repr.plot.height = 7, repr.plot.width = 7)\n",
    "\n",
    "# Create recipe to standardize training data\n",
    "parkinsons_recipe <- recipe(status ~., data = parkinsons_train) |>\n",
    "    step_center(all_predictors()) |>\n",
    "    step_scale(all_predictors())\n",
    "\n",
    "# Create nearest_neighbor model specification with tuning on number of neighbours\n",
    "parkinsons_spec <- nearest_neighbor(weight_func = \"rectangular\", neighbors = tune()) |>\n",
    "    set_engine(\"kknn\") |>\n",
    "    set_mode(\"classification\")\n",
    "\n",
    "# 5-fold cross-validation on training data\n",
    "parkinsons_vfold <- vfold_cv(parkinsons_train, v = 5, strata = status)\n",
    "\n",
    "# Create workflow with k ranging from 1 to 50 (by 2) and collect metrics\n",
    "gridvals <- tibble(neighbors = seq(from = 1, to = 50, by = 2))\n",
    "\n",
    "parkinsons_results <- workflow() |>\n",
    "    add_recipe(parkinsons_recipe) |>\n",
    "    add_model(parkinsons_spec) |>\n",
    "    tune_grid(resamples = parkinsons_vfold, grid = gridvals) |>\n",
    "    collect_metrics()\n",
    "\n",
    "accuracies <- parkinsons_results |>\n",
    "    filter(.metric == \"accuracy\")\n",
    "accuracies\n",
    "\n",
    "# plot k (number of neighbours) vs accuracy to choose best k\n",
    "parkinsons_k_plot <- accuracies |>\n",
    "    ggplot(aes(x = neighbors, y = mean)) +\n",
    "    geom_point() +\n",
    "    geom_line() +\n",
    "    xlab(\"Number of Neighbours (k)\") +\n",
    "    ylab(\"Accuracy Estimate\") +\n",
    "    scale_x_continuous(breaks = seq(0, 50, by = 2)) +\n",
    "    ggtitle(\"Fig 5. Estimated Accuracy versus Number of Neighbours\") +\n",
    "    theme(text = element_text(size = 14))\n",
    "\n",
    "parkinsons_k_plot\n"
   ]
  },
  {
   "cell_type": "code",
   "execution_count": null,
   "id": "6e78a9b8-b9ac-422e-bfbd-2ba5fd3649f7",
   "metadata": {
    "tags": []
   },
   "outputs": [],
   "source": [
    "# knn classification final model with optimal k \n",
    "\n",
    "parkinsons_best_spec <- nearest_neighbor(weight_func = \"rectangular\", neighbors = 7) |>\n",
    "    set_engine(\"kknn\") |>\n",
    "    set_mode(\"classification\")\n",
    "\n",
    "parkinsons_fit <- workflow() |>\n",
    "    add_recipe(parkinsons_recipe) |>\n",
    "    add_model(parkinsons_spec) |>\n",
    "    fit(data = parkinsons_train)\n",
    "\n",
    "# use final model to predict on test data\n",
    "parkinsons_predictions <- predict(parkinsons_fit, parkinsons_test) |>\n",
    "    bind_cols(parkinsons_test)\n",
    "\n",
    "parkinsons_metrics <- parkinsons_predictions |>\n",
    "    metrics(truth = status, estimate = .pred_class) |>\n",
    "    filter(.metric == \"accuracy\")\n",
    "parkinsons_metrics\n",
    "\n",
    "parkinsons_conf_matrix <- parkinsons_predictions |>\n",
    "    conf_mat(truth = status, estimate = .pred_class)\n",
    "parkinsons_conf_matrix"
   ]
  },
  {
   "cell_type": "markdown",
   "id": "3db19be0-bac5-458a-b4f7-56de0c7be9b7",
   "metadata": {},
   "source": [
    "# Final Visualization\n",
    ".Naomi"
   ]
  },
  {
   "cell_type": "code",
   "execution_count": null,
   "id": "7fd99900-2d68-4042-8e8f-cd890f2ce22f",
   "metadata": {
    "tags": []
   },
   "outputs": [],
   "source": [
    "# Final Stacked Bar Graph  \n",
    "predictions_count <- parkinsons_predictions |>\n",
    "    semi_join(parkinsons_test) |>\n",
    "    group_by(status, .pred_class) |>\n",
    "    summarize(n=n())\n",
    "\n",
    "predictions_count\n",
    "\n",
    "\n",
    "parkinsons_final_graph <- predictions_count |>\n",
    "   ggplot(aes(x = status, y = n, fill = .pred_class)) +\n",
    "    geom_bar(position = \"fill\", stat = \"identity\") +\n",
    "    labs(x = \"Health Status of Subject\", y = \"Proportion Predicted\", fill = \"Predicted Health Status\") +\n",
    "    ggtitle(\"Fig 6. True health status of subject by predict status\") +\n",
    "    theme(text = element_text(size = 14))\n",
    "parkinsons_final_graph\n",
    "    "
   ]
  },
  {
   "cell_type": "markdown",
   "id": "eca7aefa-6b65-453b-8e12-6361242a5b9d",
   "metadata": {},
   "source": [
    "# Discussion\n",
    "\n",
    "It is expected that the acoustic features will demonstrate significant differences between individuals with PD and healthy patients, providing a basis for classification which can be used for early detection of PD.\n",
    "\n",
    "If our classification model shows good accuracy, voice analysis could become an early diagnosis screening tool and help initiate earlier treatment, potentially slowing disease progression. In the larger scope of medicine, the study’s findings can generate awareness regarding the utility of acoustic measurements for neurological and neurodegenerative disorders.\n",
    "\n",
    "Future research could focus on larger, more diverse, patient populations. The study further provokes interest in other diagnostic tools and acoustic biomarkers that could be included to create more comprehensive diagnostic models. "
   ]
  },
  {
   "cell_type": "markdown",
   "id": "e223b548-6637-499f-a482-94d83a923b00",
   "metadata": {},
   "source": [
    "## References\n",
    "\n",
    "Harel, B., Cannizzaro, M., & Snyder, P. J. (2004). Variability in fundamental frequency during speech in prodromal and incipient parkinson's disease: A longitudinal case study. Brain and Cognition, 56(1), 24-29. https://doi.org/10.1016/j.bandc.2004.05.002\n",
    "\n",
    "Jiménez-Jiménez, F. J., Gamboa, J., Nieto, A., Guerrero, J., Orti-Pareja, M., Molina, J. A., García-Albea, E., & Cobeta, I. (1997). Acoustic voice analysis in untreated patients with parkinson's disease. Parkinsonism & Related Disorders, 3(2), 111-116. https://doi.org/10.1016/S1353-8020(97)00007-2\n",
    "\n",
    "Little, M. A., McSharry, P. E., Hunter, E. J., Spielman, J., & Ramig, L. O. (2009). Suitability of dysphonia measurements for telemonitoring of parkinson's disease. IEEE Transactions on Biomedical Engineering, 56(4), 1015-1022. https://doi.org/10.1109/TBME.2008.2005954\n",
    "\n",
    "Ma, A., Lau, K. K., & Thyagarajan, D. (2020). Voice changes in Parkinson’s disease: What are they telling us?. Journal of Clinical Neuroscience, 72, 1-7. https://doi.org/10.1016/j.jocn.2019.12.029"
   ]
  }
 ],
 "metadata": {
  "kernelspec": {
   "display_name": "R",
   "language": "R",
   "name": "ir"
  },
  "language_info": {
   "codemirror_mode": "r",
   "file_extension": ".r",
   "mimetype": "text/x-r-source",
   "name": "R",
   "pygments_lexer": "r",
   "version": "4.2.2"
  }
 },
 "nbformat": 4,
 "nbformat_minor": 5
}
